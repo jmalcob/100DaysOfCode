{
 "cells": [
  {
   "cell_type": "code",
   "execution_count": null,
   "metadata": {},
   "outputs": [],
   "source": [
    "import urllib.request, urllib.parse, urllib.error\n",
    "from bs4 import BeautifulSoup\n",
    "import ssl\n",
    "\n",
    "#Ignore SSL certificate errors\n",
    "ctx = ssl.create_default_context()\n",
    "ctx·check_hostname = False\n",
    "#ctx.verify_mode = ssl.CERT_NONE\n",
    "\n",
    "url = input('Enter -')\n",
    "html = urllib.request.urlopen(url, context=ctx).read()\n",
    "soup = BeautifulSoup(html, 'html.parser')\n",
    "\n",
    "# Retrieve all of the anchor tags\n",
    "tags = soup('a')\n",
    "for tag in tags:\n",
    "    print(tag.get('href', None))\n",
    "\n"
   ]
  },
  {
   "cell_type": "markdown",
   "metadata": {},
   "source": [
    "# Project(Web Scraping)\n",
    "## Tiempo en una Ciudad\n",
    "### Registros del tiempo en un determinado dia"
   ]
  },
  {
   "cell_type": "code",
   "execution_count": 12,
   "metadata": {},
   "outputs": [
    {
     "name": "stdout",
     "output_type": "stream",
     "text": [
      "None\n",
      "width: 100%\n"
     ]
    }
   ],
   "source": [
    "import urllib.request, urllib.parse, urllib.error\n",
    "from bs4 import BeautifulSoup\n",
    "# https://www.tutiempo.net/registros/saco/23-abril-2021.html\n",
    "def registros_dia(estacion, fecha):\n",
    "    contenido_url = urllib.request.urlopen('https://www.tutiempo.net/registros/'+ estacion +'/'+ fecha +'.html')\n",
    "    pass\n",
    "\n",
    "contenido_url = urllib.request.urlopen('https://www.tutiempo.net/registros/saco/23-abril-2021.html')\n",
    "contenido_estructurado= BeautifulSoup(contenido_url, 'html.parser')\n",
    "tabla_dia  = contenido_estructurado.find('table', {'style': 'width: 100%'})\n",
    "\n",
    "tags = contenido_estructurado('table')\n",
    "for tag in tags:\n",
    "    print(tag.get('style', None))\n",
    "\n",
    "    "
   ]
  }
 ],
 "metadata": {
  "interpreter": {
   "hash": "e7370f93d1d0cde622a1f8e1c04877d8463912d04d973331ad4851f04de6915a"
  },
  "kernelspec": {
   "display_name": "Python 3.10.4 64-bit",
   "language": "python",
   "name": "python3"
  },
  "language_info": {
   "codemirror_mode": {
    "name": "ipython",
    "version": 3
   },
   "file_extension": ".py",
   "mimetype": "text/x-python",
   "name": "python",
   "nbconvert_exporter": "python",
   "pygments_lexer": "ipython3",
   "version": "3.10.4"
  },
  "orig_nbformat": 4
 },
 "nbformat": 4,
 "nbformat_minor": 2
}
