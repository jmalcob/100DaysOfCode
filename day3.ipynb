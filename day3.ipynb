{
 "cells": [
  {
   "cell_type": "markdown",
   "metadata": {},
   "source": [
    "## Strings and Lists"
   ]
  },
  {
   "cell_type": "code",
   "execution_count": null,
   "metadata": {},
   "outputs": [],
   "source": [
    "list1 = list() #create an empty list"
   ]
  },
  {
   "cell_type": "code",
   "execution_count": 5,
   "metadata": {},
   "outputs": [
    {
     "name": "stdout",
     "output_type": "stream",
     "text": [
      "With three words\n",
      "['With', 'three', 'words']\n",
      "3\n",
      "With\n"
     ]
    }
   ],
   "source": [
    "abc = 'With three words'\n",
    "stuff = abc.split()\n",
    "print(abc)\n",
    "print(stuff)\n",
    "print(len(stuff))\n",
    "print(stuff[0])"
   ]
  },
  {
   "cell_type": "code",
   "execution_count": 6,
   "metadata": {},
   "outputs": [
    {
     "name": "stdout",
     "output_type": "stream",
     "text": [
      "['With', 'three', 'words']\n",
      "With\n",
      "three\n",
      "words\n"
     ]
    }
   ],
   "source": [
    "print(stuff)\n",
    "for w in stuff:\n",
    "    print(w)"
   ]
  },
  {
   "cell_type": "code",
   "execution_count": 10,
   "metadata": {},
   "outputs": [
    {
     "name": "stdout",
     "output_type": "stream",
     "text": [
      "Sat\n",
      "Fri\n",
      "Fri\n",
      "Fri\n",
      "Fri\n",
      "Fri\n",
      "Fri\n",
      "Fri\n",
      "Fri\n",
      "Fri\n",
      "Fri\n",
      "Fri\n",
      "Fri\n",
      "Fri\n",
      "Fri\n",
      "Fri\n",
      "Fri\n",
      "Fri\n",
      "Fri\n",
      "Fri\n",
      "Fri\n",
      "Thu\n",
      "Thu\n",
      "Thu\n",
      "Thu\n",
      "Thu\n",
      "Thu\n"
     ]
    }
   ],
   "source": [
    "fhand = open('mbox-short.txt')\n",
    "for line in fhand:\n",
    "    line.rstrip()\n",
    "    if not line.startswith('From '): continue\n",
    "    listLine = line.split()\n",
    "    print(listLine[2])"
   ]
  },
  {
   "cell_type": "markdown",
   "metadata": {},
   "source": [
    "## Python Dictionaries"
   ]
  },
  {
   "cell_type": "code",
   "execution_count": 13,
   "metadata": {},
   "outputs": [
    {
     "name": "stdout",
     "output_type": "stream",
     "text": [
      "{'money': 12, 'candy': 3, 'tissues': 75}\n",
      "3\n",
      "{'money': 12, 'candy': 5, 'tissues': 75}\n"
     ]
    }
   ],
   "source": [
    "purse = dict() #An empty dictionary\n",
    "purse['money'] = 12\n",
    "purse['candy'] = 3\n",
    "purse['tissues'] = 75\n",
    "print(purse)\n",
    "print(purse['candy'])\n",
    "\n",
    "purse['candy'] = purse['candy'] + 2\n",
    "print(purse)"
   ]
  },
  {
   "cell_type": "markdown",
   "metadata": {},
   "source": [
    "## Many Counters with a Dictionary"
   ]
  },
  {
   "cell_type": "code",
   "execution_count": 18,
   "metadata": {},
   "outputs": [
    {
     "name": "stdout",
     "output_type": "stream",
     "text": [
      "{'csev': 1, 'cwen': 1}\n",
      "{'csev': 1, 'cwen': 2}\n"
     ]
    },
    {
     "data": {
      "text/plain": [
       "True"
      ]
     },
     "execution_count": 18,
     "metadata": {},
     "output_type": "execute_result"
    }
   ],
   "source": [
    "#One common use of dictionaries is counting how often we \"see\" something\n",
    "ccc = dict()\n",
    "ccc['csev'] = 1\n",
    "ccc['cwen'] = 1\n",
    "print(ccc)\n",
    "ccc['cwen'] = ccc['cwen'] + 1 #ccc['cwen'] += 1\n",
    "print(ccc)\n",
    "'cwen' in ccc"
   ]
  },
  {
   "cell_type": "markdown",
   "metadata": {},
   "source": [
    "## Dictionary Tracebacks\n"
   ]
  },
  {
   "cell_type": "code",
   "execution_count": 16,
   "metadata": {},
   "outputs": [
    {
     "ename": "KeyError",
     "evalue": "'csev'",
     "output_type": "error",
     "traceback": [
      "\u001b[0;31m---------------------------------------------------------------------------\u001b[0m",
      "\u001b[0;31mKeyError\u001b[0m                                  Traceback (most recent call last)",
      "\u001b[1;32m/home/neustar/Documents/100DayOfCode/day3.ipynb Cell 11'\u001b[0m in \u001b[0;36m<cell line: 2>\u001b[0;34m()\u001b[0m\n\u001b[1;32m      <a href='vscode-notebook-cell:/home/neustar/Documents/100DayOfCode/day3.ipynb#ch0000011?line=0'>1</a>\u001b[0m ccc \u001b[39m=\u001b[39m \u001b[39mdict\u001b[39m()\n\u001b[0;32m----> <a href='vscode-notebook-cell:/home/neustar/Documents/100DayOfCode/day3.ipynb#ch0000011?line=1'>2</a>\u001b[0m \u001b[39mprint\u001b[39m(ccc[\u001b[39m'\u001b[39;49m\u001b[39mcsev\u001b[39;49m\u001b[39m'\u001b[39;49m])\n",
      "\u001b[0;31mKeyError\u001b[0m: 'csev'"
     ]
    }
   ],
   "source": [
    "ccc = dict()\n",
    "print(ccc['csev'])"
   ]
  },
  {
   "cell_type": "code",
   "execution_count": 17,
   "metadata": {},
   "outputs": [
    {
     "data": {
      "text/plain": [
       "False"
      ]
     },
     "execution_count": 17,
     "metadata": {},
     "output_type": "execute_result"
    }
   ],
   "source": [
    "'csev' in ccc"
   ]
  },
  {
   "cell_type": "markdown",
   "metadata": {},
   "source": [
    "### When we see a new name"
   ]
  },
  {
   "cell_type": "code",
   "execution_count": 1,
   "metadata": {},
   "outputs": [
    {
     "name": "stdout",
     "output_type": "stream",
     "text": [
      "{'csev': 1, 'cwen': 2, 'zqian': 1}\n"
     ]
    }
   ],
   "source": [
    "counts = dict()\n",
    "names = ['csev', 'cwen', 'zqian', 'cwen']\n",
    "for name in names:\n",
    "    if name not in counts:\n",
    "        counts[name] = 1\n",
    "    else:\n",
    "        counts[name] += 1\n",
    "print(counts)\n"
   ]
  },
  {
   "cell_type": "code",
   "execution_count": 10,
   "metadata": {},
   "outputs": [
    {
     "name": "stdout",
     "output_type": "stream",
     "text": [
      "{'csev': 1, 'cwen': 2, 'zqian': 1}\n"
     ]
    },
    {
     "data": {
      "text/plain": [
       "1"
      ]
     },
     "execution_count": 10,
     "metadata": {},
     "output_type": "execute_result"
    }
   ],
   "source": [
    "\n",
    "print(counts)\n",
    "counts.get('csev')"
   ]
  },
  {
   "cell_type": "markdown",
   "metadata": {},
   "source": [
    "## Simplified counting with get()\n"
   ]
  },
  {
   "cell_type": "code",
   "execution_count": 11,
   "metadata": {},
   "outputs": [
    {
     "name": "stdout",
     "output_type": "stream",
     "text": [
      "{'csev': 1, 'cwen': 2, 'zqian': 1}\n"
     ]
    }
   ],
   "source": [
    "counts = dict()\n",
    "names = ['csev', 'cwen', 'zqian', 'cwen']\n",
    "for name in names:\n",
    "    counts[name] = counts.get(name, 0) + 1\n",
    "    \n",
    "print(counts)\n"
   ]
  },
  {
   "cell_type": "markdown",
   "metadata": {},
   "source": [
    "## Counting Pattern"
   ]
  },
  {
   "cell_type": "code",
   "execution_count": 13,
   "metadata": {},
   "outputs": [
    {
     "name": "stdout",
     "output_type": "stream",
     "text": [
      "Enter a line of text: \n",
      "Words:  ['The', 'general', 'pattern', 'to', 'count', 'the', 'words', 'in', 'a', 'line', 'of', 'textx', 'is', 'to', 'split', 'the', 'line', 'into', 'words,', 'the', 'lopp', 'through', 'the', 'words', 'and', 'use', 'a', 'dictionary', 'to', 'track', 'the', 'count', 'of', 'each', 'word', 'independently']\n",
      "Counting...\n",
      "Counts  {'The': 1, 'general': 1, 'pattern': 1, 'to': 3, 'count': 2, 'the': 5, 'words': 2, 'in': 1, 'a': 2, 'line': 2, 'of': 2, 'textx': 1, 'is': 1, 'split': 1, 'into': 1, 'words,': 1, 'lopp': 1, 'through': 1, 'and': 1, 'use': 1, 'dictionary': 1, 'track': 1, 'each': 1, 'word': 1, 'independently': 1}\n"
     ]
    }
   ],
   "source": [
    "counts = dict()\n",
    "print('Enter a line of text: ')\n",
    "line = input('')\n",
    "words = line.split()\n",
    "print('Words: ', words)\n",
    "\n",
    "print('Counting...')\n",
    "for word in words:\n",
    "    counts[word] = counts.get(word, 0) + 1\n",
    "print('Counts ', counts)"
   ]
  },
  {
   "cell_type": "markdown",
   "metadata": {},
   "source": [
    "## Definite Loops and Dictionaries"
   ]
  },
  {
   "cell_type": "code",
   "execution_count": 14,
   "metadata": {},
   "outputs": [
    {
     "name": "stdout",
     "output_type": "stream",
     "text": [
      "chuck 1\n",
      "fred 42\n",
      "jan 100\n"
     ]
    }
   ],
   "source": [
    "counts = {'chuck': 1, 'fred' : 42, 'jan': 100}\n",
    "for key in counts:\n",
    "    print(key, counts[key])"
   ]
  },
  {
   "cell_type": "markdown",
   "metadata": {},
   "source": [
    "## Retrieving lists of Keys and Values"
   ]
  },
  {
   "cell_type": "code",
   "execution_count": 15,
   "metadata": {},
   "outputs": [
    {
     "name": "stdout",
     "output_type": "stream",
     "text": [
      "['chuck', 'fred', 'jan']\n"
     ]
    }
   ],
   "source": [
    "jjj = {'chuck': 1, 'fred' : 42, 'jan': 100}\n",
    "print(list(jjj))"
   ]
  },
  {
   "cell_type": "code",
   "execution_count": 16,
   "metadata": {},
   "outputs": [
    {
     "name": "stdout",
     "output_type": "stream",
     "text": [
      "dict_keys(['chuck', 'fred', 'jan'])\n"
     ]
    }
   ],
   "source": [
    "print(jjj.keys())"
   ]
  },
  {
   "cell_type": "code",
   "execution_count": 17,
   "metadata": {},
   "outputs": [
    {
     "name": "stdout",
     "output_type": "stream",
     "text": [
      "dict_values([1, 42, 100])\n"
     ]
    }
   ],
   "source": [
    "print(jjj.values())"
   ]
  },
  {
   "cell_type": "code",
   "execution_count": 18,
   "metadata": {},
   "outputs": [
    {
     "name": "stdout",
     "output_type": "stream",
     "text": [
      "dict_items([('chuck', 1), ('fred', 42), ('jan', 100)])\n"
     ]
    }
   ],
   "source": [
    "print(jjj.items())"
   ]
  },
  {
   "cell_type": "markdown",
   "metadata": {},
   "source": [
    "## BONUS: Two Iteration Variables!\n"
   ]
  },
  {
   "cell_type": "code",
   "execution_count": 23,
   "metadata": {},
   "outputs": [
    {
     "name": "stdout",
     "output_type": "stream",
     "text": [
      "chuck 1\n",
      "fred 42\n",
      "jan 100\n"
     ]
    }
   ],
   "source": [
    "jjj = {'chuck': 1, 'fred' : 42, 'jan': 100}\n",
    "for aaa , bbb in jjj.items():\n",
    "    print(aaa, bbb)"
   ]
  },
  {
   "cell_type": "code",
   "execution_count": 24,
   "metadata": {},
   "outputs": [
    {
     "name": "stdout",
     "output_type": "stream",
     "text": [
      "Jan 352\n"
     ]
    }
   ],
   "source": [
    "name = input('Enter file: ')\n",
    "handle = open(name)\n",
    "\n",
    "counts = dict()\n",
    "for line in handle:\n",
    "    words = line.split()\n",
    "    for word in words:\n",
    "        counts[word] = counts.get(word, 0) + 1\n",
    "bigcount = None\n",
    "bigword = None\n",
    "for word, count in counts.items():\n",
    "    if bigcount is None or count > bigcount:\n",
    "        bigword = word\n",
    "        bigcount = count      \n",
    "print(bigword, bigcount)"
   ]
  }
 ],
 "metadata": {
  "interpreter": {
   "hash": "e7370f93d1d0cde622a1f8e1c04877d8463912d04d973331ad4851f04de6915a"
  },
  "kernelspec": {
   "display_name": "Python 3.10.4 64-bit",
   "language": "python",
   "name": "python3"
  },
  "language_info": {
   "codemirror_mode": {
    "name": "ipython",
    "version": 3
   },
   "file_extension": ".py",
   "mimetype": "text/x-python",
   "name": "python",
   "nbconvert_exporter": "python",
   "pygments_lexer": "ipython3",
   "version": "3.10.4"
  },
  "orig_nbformat": 4
 },
 "nbformat": 4,
 "nbformat_minor": 2
}
