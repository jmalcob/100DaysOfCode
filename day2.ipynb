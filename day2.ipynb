{
 "cells": [
  {
   "cell_type": "markdown",
   "metadata": {},
   "source": [
    "## File Handle as Sequence"
   ]
  },
  {
   "cell_type": "code",
   "execution_count": 1,
   "metadata": {},
   "outputs": [
    {
     "name": "stdout",
     "output_type": "stream",
     "text": [
      "From neustar_malmsteen.yacob@mi.unc.edu.ar Mon Apr 18 19:03:56 2022\n",
      "\n",
      "\n",
      "\n",
      "this is the line 1\n",
      "\n",
      "I think Tina Turner is her real name?\n",
      "\n",
      "No, It isn't\n",
      "\n",
      "What's her real name?\n",
      "\n",
      "Anna Mae\n",
      "\n",
      "How do you spell it?\n",
      "\n",
      "A-N-N-A M-A-E\n",
      "\n",
      "Thanks\n",
      "\n"
     ]
    }
   ],
   "source": [
    "xfile = open('mbox.txt')\n",
    "for cheese in xfile:\n",
    "    print(cheese)"
   ]
  },
  {
   "cell_type": "markdown",
   "metadata": {},
   "source": [
    "## Counting Line in a File"
   ]
  },
  {
   "cell_type": "code",
   "execution_count": 2,
   "metadata": {},
   "outputs": [
    {
     "name": "stdout",
     "output_type": "stream",
     "text": [
      "Line count:  10\n"
     ]
    }
   ],
   "source": [
    "fhand = open('mbox.txt')\n",
    "count = 0\n",
    "for line in fhand:\n",
    "    count += 1\n",
    "print('Line count: ', count)    "
   ]
  },
  {
   "cell_type": "markdown",
   "metadata": {},
   "source": [
    "## Reading the *Whole* File"
   ]
  },
  {
   "cell_type": "code",
   "execution_count": 5,
   "metadata": {},
   "outputs": [
    {
     "name": "stdout",
     "output_type": "stream",
     "text": [
      "212\n",
      "From neustar_malmsteen.yacob@mi.unc.edu.ar Mon Apr 18 19:03:56 2022\n",
      "\n",
      "this is the line 1\n",
      "I think Tina Turner is her real name?\n",
      "No, It isn't\n",
      "What's her real name?\n",
      "Anna Mae\n",
      "How do you spell it?\n",
      "A-N-N-A M-A-E\n",
      "Thanks\n",
      "\n",
      "From neustar_malmste\n"
     ]
    }
   ],
   "source": [
    "fhand = open('mbox.txt')\n",
    "inp = fhand.read()\n",
    "print(len(inp))\n",
    "print(inp)\n",
    "print(inp[:20])"
   ]
  },
  {
   "cell_type": "markdown",
   "metadata": {},
   "source": [
    "## Searching Through a File"
   ]
  },
  {
   "cell_type": "code",
   "execution_count": 9,
   "metadata": {},
   "outputs": [
    {
     "name": "stdout",
     "output_type": "stream",
     "text": [
      "From: neustar_malmsteen.yacob@mi.unc.edu.ar Mon Apr 18 19:03:56 2022\n",
      "From: javiering_malmsteen.yacob@mi.unc.edu.ar Mon Apr 18 19:03:56 2022\n",
      "From: enucierob@mi.unc.edu.ar Mon Apr 18 19:03:56 2022\n"
     ]
    }
   ],
   "source": [
    "fhand = open('mbox.txt')\n",
    "for line in fhand:\n",
    "    line = line.rstrip() # Elimina el \\n al final de la linea \n",
    "    if line.startswith('From'):\n",
    "        print(line)"
   ]
  },
  {
   "cell_type": "markdown",
   "metadata": {},
   "source": [
    "## Skipping with \n",
    "    continue"
   ]
  },
  {
   "cell_type": "code",
   "execution_count": 10,
   "metadata": {},
   "outputs": [
    {
     "name": "stdout",
     "output_type": "stream",
     "text": [
      "From: neustar_malmsteen.yacob@mi.unc.edu.ar Mon Apr 18 19:03:56 2022\n",
      "From: javiering_malmsteen.yacob@mi.unc.edu.ar Mon Apr 18 19:03:56 2022\n",
      "From: enucierob@mi.unc.edu.ar Mon Apr 18 19:03:56 2022\n"
     ]
    }
   ],
   "source": [
    "fhand = open('mbox.txt')\n",
    "for line in fhand:\n",
    "    line = line.rstrip() # Elimina el \\n al final de la linea \n",
    "    if not line.startswith('From'):\n",
    "        continue\n",
    "    print(line)"
   ]
  },
  {
   "cell_type": "markdown",
   "metadata": {},
   "source": [
    "## Using in to selected lines\n",
    "\n"
   ]
  },
  {
   "cell_type": "code",
   "execution_count": 14,
   "metadata": {},
   "outputs": [
    {
     "name": "stdout",
     "output_type": "stream",
     "text": [
      "From: neustar_malmsteen.yacob@mi.unc.edu.ar Mon Apr 18 19:03:56 2022\n",
      "From: javiering_malmsteen.yacob@mi.unc.edu.ar Mon Apr 18 19:03:56 2022\n",
      "From: enucierob@mi.unc.edu.ar Mon Apr 18 19:03:56 2022\n"
     ]
    }
   ],
   "source": [
    "fhand = open('mbox.txt')\n",
    "for line in fhand:\n",
    "    line = line.rstrip() # Elimina el \\n al final de la linea \n",
    "    if not 'mi.unc.edu.ar' in line:\n",
    "        continue\n",
    "    print(line)"
   ]
  },
  {
   "cell_type": "markdown",
   "metadata": {},
   "source": [
    "## Bad File Names"
   ]
  },
  {
   "cell_type": "code",
   "execution_count": 17,
   "metadata": {},
   "outputs": [
    {
     "name": "stdout",
     "output_type": "stream",
     "text": [
      "File cannot be opened:  holamundo\n",
      "There were  0  How do lines in holamundo\n"
     ]
    }
   ],
   "source": [
    "fname = input('Enter the file name:  ')\n",
    "try:\n",
    "    fhand = open(fname)\n",
    "except:\n",
    "    print('File cannot be opened: ', fname)\n",
    "    quit()\n",
    "\n",
    "count = 0\n",
    "for line in fhand:\n",
    "    if line.startswith('How do'):\n",
    "        count += 1\n",
    "print('There were ', count, ' How do lines in', fname) \n"
   ]
  }
 ],
 "metadata": {
  "interpreter": {
   "hash": "e7370f93d1d0cde622a1f8e1c04877d8463912d04d973331ad4851f04de6915a"
  },
  "kernelspec": {
   "display_name": "Python 3.10.4 64-bit",
   "language": "python",
   "name": "python3"
  },
  "language_info": {
   "codemirror_mode": {
    "name": "ipython",
    "version": 3
   },
   "file_extension": ".py",
   "mimetype": "text/x-python",
   "name": "python",
   "nbconvert_exporter": "python",
   "pygments_lexer": "ipython3",
   "version": "3.10.4"
  },
  "orig_nbformat": 4
 },
 "nbformat": 4,
 "nbformat_minor": 2
}
